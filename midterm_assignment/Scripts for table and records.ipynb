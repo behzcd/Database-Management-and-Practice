{
 "cells": [
  {
   "cell_type": "code",
   "execution_count": 1,
   "id": "7622f554",
   "metadata": {},
   "outputs": [
    {
     "name": "stdout",
     "output_type": "stream",
     "text": [
      "Requirement already satisfied: mysql-connector-python in c:\\programdata\\anaconda3\\lib\\site-packages (8.0.31)\n",
      "Requirement already satisfied: protobuf<=3.20.1,>=3.11.0 in c:\\programdata\\anaconda3\\lib\\site-packages (from mysql-connector-python) (3.19.1)\n",
      "Note: you may need to restart the kernel to use updated packages.\n"
     ]
    }
   ],
   "source": [
    "pip install mysql-connector-python"
   ]
  },
  {
   "cell_type": "code",
   "execution_count": 13,
   "id": "146b0317",
   "metadata": {},
   "outputs": [],
   "source": [
    "import mysql.connector\n",
    "\n",
    "mydb=mysql.connector.connect(host=\"localhost\",user=\"root\",password=\"1999\")\n",
    "\n",
    "mycursor=mydb.cursor()\n"
   ]
  },
  {
   "cell_type": "code",
   "execution_count": 14,
   "id": "1a8feb92",
   "metadata": {},
   "outputs": [],
   "source": [
    "mycursor.execute(\"CREATE DATABASE Bekhzod_db\")\n"
   ]
  },
  {
   "cell_type": "code",
   "execution_count": 15,
   "id": "2a713886",
   "metadata": {},
   "outputs": [],
   "source": [
    "mydb=mysql.connector.connect(host=\"localhost\",user=\"root\",password=\"1999\",database=\"Bekhzod_db\")"
   ]
  },
  {
   "cell_type": "code",
   "execution_count": 16,
   "id": "e8455ca7",
   "metadata": {
    "scrolled": true
   },
   "outputs": [],
   "source": [
    "mycursor=mydb.cursor()\n",
    "mycursor.execute(\"CREATE TABLE Vehicles(Status VARCHAR(10), Vehicle_id VARCHAR(5), Reg_id VARCHAR(8), Manufacturer VARCHAR(20))\")"
   ]
  },
  {
   "cell_type": "code",
   "execution_count": 17,
   "id": "31c4776a",
   "metadata": {},
   "outputs": [],
   "source": [
    "mycursor.execute(\"ALTER TABLE Vehicles ADD Model VARCHAR(20)\")\n",
    "mycursor.execute(\"ALTER TABLE Vehicles ADD Color VARCHAR(15)\")\n",
    "mycursor.execute(\"ALTER TABLE Vehicles ADD Odometer INTEGER(8)\")\n",
    "mycursor.execute(\"ALTER TABLE Vehicles ADD B_Description VARCHAR(50)\")\n",
    "mycursor.execute(\"ALTER TABLE Vehicles ADD F_Cost VARCHAR(20)\")"
   ]
  },
  {
   "cell_type": "code",
   "execution_count": 18,
   "id": "eab5b6ae",
   "metadata": {},
   "outputs": [],
   "source": [
    "records=\"INSERT INTO Vehicles(Status,Vehicle_id,Reg_id,Manufacturer,Model,Color,Odometer,B_Description,F_Cost) VALUES(%s,%s,%s,%s,%s,%s,%s,%s,%s)\"\n",
    "Vehicles=[('M','B2000','3000AB','GM','Malibu','Black','57012','Oil/oil filter change-2022/10/05','$500'),\n",
    "         ('R','B2001','3001XN','KIA','K7','White','101321','Wiper blades replacement-2022/10/11','$1245'),\n",
    "         ('R','B2002','3002RT','Hyundai','Venue','Red','13024','Air filter replacement-2022/08/29','$950'),\n",
    "         ('M','B2003','3003KJ','Genesis','G80','Black','72767','New tires-2022/09/17','$2000'),\n",
    "         ('R','B2004','3004WD','Samsung','SM7','White','189001','Antifreeze added-2022/10/20','$400')]\n",
    "mycursor.executemany(records,Vehicles)\n",
    "mydb.commit()"
   ]
  },
  {
   "cell_type": "code",
   "execution_count": 21,
   "id": "05e1f1e9",
   "metadata": {},
   "outputs": [],
   "source": [
    "mycursor.execute(\"CREATE TABLE Countries(Countries VARCHAR(30),Languages VARCHAR(10))\")"
   ]
  },
  {
   "cell_type": "code",
   "execution_count": 23,
   "id": "a3cc4094",
   "metadata": {},
   "outputs": [],
   "source": [
    "records1=\"INSERT INTO Countries(Countries,Languages) VALUES(%s,%s)\"\n",
    "Countries=[('Afghanistan','AF'),\n",
    "            ('Bahrain','BH'),\n",
    "            ('Bangladesh','BD'),\n",
    "            ('Bhutan','BT'),\n",
    "            ('Brunei','BN'),\n",
    "            ('Cambodia','KH'),\n",
    "            ('China','CN'),\n",
    "            ('Chinese Taipei','CT'),\n",
    "            ('Timor-Leste','TL'),\n",
    "            ('Hong Kong','HK'),\n",
    "            ('India','IN'),\n",
    "            ('Indonesia','ID'),\n",
    "            ('Iran','IR'),\n",
    "            ('Iraq','IQ'),\n",
    "            ('Israel','IL'),\n",
    "            ('Japan','JP'),\n",
    "            ('Jordan','JO'),\n",
    "            ('Kazakhstan','KZ,RU'),\n",
    "            ('Kuwait','KW'),\n",
    "            ('Kyrgyzstan','KG,RU'),\n",
    "            ('Laos','LA'),\n",
    "            ('Lebanon','LB'),\n",
    "            ('Macau','MO'),\n",
    "            ('Malaysia','MY'),\n",
    "            ('North Borneo','NB'),\n",
    "            ('Sarawak','SW'),\n",
    "            ('Maldives','MV'),\n",
    "            ('Mongolia','MN'),\n",
    "            ('Myanmar','MM'),\n",
    "            ('Nepal','NP'),\n",
    "            ('North Korea','PRK'),\n",
    "            ('Oman','OM'),\n",
    "            ('Pakistan','PK'),\n",
    "            ('Palestine','PS'),\n",
    "            ('Philippines','PH'),\n",
    "            ('Qatar','QA'),\n",
    "            ('Saudi Arabia','SA'),\n",
    "            ('Singapore','SG'),\n",
    "            ('South Korea','KR,EN'),\n",
    "            ('Sri Lanka','LK'),\n",
    "            ('Syria','SY'),\n",
    "            ('Tajikistan','TJ'),\n",
    "            ('Thailand','TH'),\n",
    "            ('Turkmenistan','TM'),\n",
    "            ('United Arab Emirates','AE'),\n",
    "            ('Uzbekistan','UZ,RU'),\n",
    "            ('Vietnam','VN'),\n",
    "            ('Yemen','YE'),\n",
    "            ('North Yemen','NY'),\n",
    "            ('South Yemen','SY'),\n",
    "            ('Korea','COR')]\n",
    "\n",
    "mycursor.executemany(records1,Countries)\n",
    "mydb.commit()"
   ]
  },
  {
   "cell_type": "code",
   "execution_count": 24,
   "id": "df358659",
   "metadata": {},
   "outputs": [],
   "source": [
    "mycursor.execute(\"CREATE TABLE Officials(Name VARCHAR(20),Country VARCHAR(20),City_id INTEGER(8),Role VARCHAR(20),Language VARCHAR(20))\")"
   ]
  },
  {
   "cell_type": "code",
   "execution_count": 25,
   "id": "b2899205",
   "metadata": {},
   "outputs": [
    {
     "name": "stdout",
     "output_type": "stream",
     "text": [
      "Name: Arnold\n",
      "Country: Maldives\n",
      "City ID: 73126353\n",
      "Role at the Game: Judge\n",
      "Preferred language: English, French\n",
      "Name: Bekhzod\n",
      "Country: Uzbekistan\n",
      "City ID: 98737632\n",
      "Role at the Game: Coach\n",
      "Preferred language: Uzbek,English,Korean\n",
      "Name: Alex John\n",
      "Country: Singapore\n",
      "City ID: 75645336\n",
      "Role at the Game: Physician\n",
      "Preferred language: English\n",
      "Name: Rajj Bhat\n",
      "Country: India\n",
      "City ID: 98545343\n",
      "Role at the Game: Judge\n",
      "Preferred language: English,Korean\n",
      "Name: Kim Sol\n",
      "Country: South Korea\n",
      "City ID: 35464677\n",
      "Role at the Game: Reporter\n",
      "Preferred language: Korean,English\n"
     ]
    }
   ],
   "source": [
    "sql='''INSERT INTO officials(Name,Country,City_id,Role,Language)\n",
    "VALUES(%s,%s,%s,%s,%s)'''\n",
    "for i in range(5):\n",
    "    name=input(\"Name: \")\n",
    "    country=input(\"Country: \")\n",
    "    c_id=int(input(\"City ID: \"))\n",
    "    role=input(\"Role at the Game: \")\n",
    "    lang=input(\"Preferred language: \")\n",
    "    officials=[(name,country,c_id,role,lang)]\n",
    "    mycursor.executemany(sql,officials)\n",
    "mydb.commit()"
   ]
  },
  {
   "cell_type": "code",
   "execution_count": 36,
   "id": "4d8ae52d",
   "metadata": {},
   "outputs": [],
   "source": [
    "mycursor.execute(\"CREATE TABLE Drivers(Name VARCHAR(20),License_num VARCHAR(18),Clearance_lev INTEGER(1))\")"
   ]
  },
  {
   "cell_type": "code",
   "execution_count": 37,
   "id": "5f433506",
   "metadata": {},
   "outputs": [],
   "source": [
    "mycursor.execute(\"ALTER TABLE Drivers ADD FATL_lev VARCHAR(2)\")\n",
    "mycursor.execute(\"ALTER TABLE Drivers ADD FATL_dt VARCHAR(10)\")\n",
    "mycursor.execute(\"ALTER TABLE Drivers ADD STLVT_lev VARCHAR(1)\")\n",
    "mycursor.execute(\"ALTER TABLE Drivers ADD STLVT_dt VARCHAR(10)\")\n",
    "mycursor.execute(\"ALTER TABLE Drivers ADD STLVT_auth VARCHAR(30)\")"
   ]
  },
  {
   "cell_type": "code",
   "execution_count": 38,
   "id": "227b25c6",
   "metadata": {},
   "outputs": [],
   "source": [
    "records2=\"INSERT INTO Drivers(Name,License_num,Clearance_lev,FATL_lev,FATL_dt,STLVT_lev,STLVT_dt,STLVT_auth) VALUES(%s,%s,%s,%s,%s,%s,%s,%s)\"\n",
    "Drivers=[('Ali','AB8838736746468645','4','10','2021/07/05','5','2019/12/03','Foreign Police Station'),\n",
    "         ('Joe','KN7365241987644563','3','7','2022/09/01','-','-','-'),\n",
    "         ('John Deo','AC9585746664532189','3','-','-','-','-','-'),\n",
    "         ('Ronald','KM9006746321756433','4','-','-','4','2021/05/27','Local Police Station'),\n",
    "         ('Max Ruin','EA9686868665432548','2','9','2022/10/20','-','-','-')]\n",
    "mycursor.executemany(records2,Drivers)\n",
    "mydb.commit()"
   ]
  },
  {
   "cell_type": "code",
   "execution_count": 40,
   "id": "c24b954e",
   "metadata": {},
   "outputs": [],
   "source": [
    "mycursor.execute(\"CREATE TABLE Locations(Pick_up VARCHAR(70),Drop_off VARCHAR(70))\")"
   ]
  },
  {
   "cell_type": "code",
   "execution_count": 41,
   "id": "3bbeb711",
   "metadata": {},
   "outputs": [],
   "source": [
    "records3=\"INSERT INTO Locations(Pick_up,Drop_off) VALUES(%s,%s)\"\n",
    "locations=[('45,Incheon,Incheon Airport T1','321,Seoul,Sunshine Hotel'),\n",
    "         ('45,Incheon,Incheon Airport T1','53,Seoul,Sports Complex'),\n",
    "         ('53,Seoul,Sports Complex','123,Pusan,Hyundai Beach'),\n",
    "         ('54,Incheon,Uzkebab Restaurant','43,Incheon, Movie Theater'),\n",
    "         ('354,Pusan, Paradise Hotel','45,Incheon,Incheon Airport T2'),\n",
    "         ('53,Seoul,Sports Complex','45,Incheon,Incheon Airport T2')]\n",
    "mycursor.executemany(records3,locations)\n",
    "mydb.commit()"
   ]
  },
  {
   "cell_type": "code",
   "execution_count": 44,
   "id": "a415db20",
   "metadata": {},
   "outputs": [],
   "source": [
    "mycursor.execute(\"CREATE TABLE Trip(Booking_ref_num INTEGER(4),Start_dt VARCHAR(30),End_dt VARCHAR(30),Start_odometer INTEGER(7),End_odometer INTEGER(7))\")"
   ]
  },
  {
   "cell_type": "code",
   "execution_count": 45,
   "id": "0ba29761",
   "metadata": {},
   "outputs": [],
   "source": [
    "records4=\"INSERT INTO Trip(Booking_ref_num,Start_dt,End_dt,Start_odometer,End_odometer) VALUES(%s,%s,%s,%s,%s)\"\n",
    "trip=[('1001','2022/10/23 at 11:00 AM','2022/10/23 at 1:00 PM','53421','53611'),\n",
    "      ('1002','2022/10/24 at 10:00 PM','2022/10/25 at 00:00 AM','256987','257193'),\n",
    "      ('1003','2022/11/01 at 2:00 PM','2022/11/01 at 8:00 PM','73123','73603'),\n",
    "      ('1004','2022/11/07 at 12:00 PM','2022/11/07 at 1:00 PM','127890','127901'),\n",
    "      ('1005','2022/11/15 at 3:00 AM','2022/11/15  at 10:00 AM','64562','65027'),\n",
    "      ('1006','2022/11/15 at 7:00 AM','2022/11/15 at 9:00 AM','93762','93971')]\n",
    "mycursor.executemany(records4,trip)\n",
    "mydb.commit()"
   ]
  },
  {
   "cell_type": "code",
   "execution_count": null,
   "id": "23ad3369",
   "metadata": {},
   "outputs": [],
   "source": []
  }
 ],
 "metadata": {
  "kernelspec": {
   "display_name": "Python 3 (ipykernel)",
   "language": "python",
   "name": "python3"
  },
  "language_info": {
   "codemirror_mode": {
    "name": "ipython",
    "version": 3
   },
   "file_extension": ".py",
   "mimetype": "text/x-python",
   "name": "python",
   "nbconvert_exporter": "python",
   "pygments_lexer": "ipython3",
   "version": "3.9.12"
  }
 },
 "nbformat": 4,
 "nbformat_minor": 5
}
