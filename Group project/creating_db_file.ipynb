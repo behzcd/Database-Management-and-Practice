{
  "nbformat": 4,
  "nbformat_minor": 0,
  "metadata": {
    "colab": {
      "provenance": [],
      "collapsed_sections": []
    },
    "kernelspec": {
      "name": "python3",
      "display_name": "Python 3"
    },
    "language_info": {
      "name": "python"
    }
  },
  "cells": [
    {
      "cell_type": "code",
      "source": [
        "from sqlalchemy import create_engine\n",
        "my_conn = create_engine(\"sqlite:////content/my_db.db/\")\n",
        "print(my_conn.name)"
      ],
      "metadata": {
        "colab": {
          "base_uri": "https://localhost:8080/"
        },
        "id": "cFDSyTAeUPow",
        "outputId": "e9c1956e-9faa-466f-f1e5-20ee66dd910b"
      },
      "execution_count": 16,
      "outputs": [
        {
          "output_type": "stream",
          "name": "stdout",
          "text": [
            "sqlite\n"
          ]
        }
      ]
    },
    {
      "cell_type": "code",
      "source": [
        "r_set=my_conn.execute('''select name from sqlite_master where type = 'table' ''')\n",
        "for row in r_set:\n",
        "  print(row)"
      ],
      "metadata": {
        "colab": {
          "base_uri": "https://localhost:8080/"
        },
        "id": "JDihC6ZiUfLo",
        "outputId": "77b27f2e-762b-48fd-8da3-2340193abbcb"
      },
      "execution_count": 17,
      "outputs": [
        {
          "output_type": "stream",
          "name": "stdout",
          "text": [
            "('category',)\n",
            "('subcategory',)\n",
            "('student',)\n"
          ]
        }
      ]
    },
    {
      "cell_type": "code",
      "source": [
        "from sqlalchemy.exc import SQLAlchemyError\n",
        "try:\n",
        "  my_conn.execute('''DROP table student;''')\n",
        "  print(\"student table deleted\")\n",
        "except SQLAlchemyError as e:\n",
        "  error = str(e._dict_['orig'])\n",
        "  print(error)"
      ],
      "metadata": {
        "colab": {
          "base_uri": "https://localhost:8080/"
        },
        "id": "XpHHOkgDUiQg",
        "outputId": "92b31b65-91e5-4585-f310-56c73cee5608"
      },
      "execution_count": 18,
      "outputs": [
        {
          "output_type": "stream",
          "name": "stdout",
          "text": [
            "student table deleted\n"
          ]
        }
      ]
    },
    {
      "cell_type": "code",
      "source": [
        "from sqlalchemy.exc import SQLAlchemyError\n",
        "try:\n",
        "  my_conn.execute('''DROP table subcategory;''')\n",
        "  print(\" table deleted\")\n",
        "except SQLAlchemyError as e:\n",
        "  error = str(e._dict_['orig'])\n",
        "  print(error)"
      ],
      "metadata": {
        "colab": {
          "base_uri": "https://localhost:8080/"
        },
        "id": "Dajze-dkUwIJ",
        "outputId": "d3122b56-5fe0-4795-d1db-e67b68543924"
      },
      "execution_count": 19,
      "outputs": [
        {
          "output_type": "stream",
          "name": "stdout",
          "text": [
            " table deleted\n"
          ]
        }
      ]
    },
    {
      "cell_type": "code",
      "source": [
        "from sqlalchemy.exc import SQLAlchemyError\n",
        "try:\n",
        "  my_conn.execute('''DROP table category;''')\n",
        "  print(\" table deleted\")\n",
        "except SQLAlchemyError as e:\n",
        "  error = str(e._dict_['orig'])\n",
        "  print(error)"
      ],
      "metadata": {
        "colab": {
          "base_uri": "https://localhost:8080/"
        },
        "outputId": "e4f8d73e-99a4-4252-9899-b01faf5071f0",
        "id": "swJZHQQCVAfQ"
      },
      "execution_count": 20,
      "outputs": [
        {
          "output_type": "stream",
          "name": "stdout",
          "text": [
            " table deleted\n"
          ]
        }
      ]
    },
    {
      "cell_type": "code",
      "execution_count": 21,
      "metadata": {
        "colab": {
          "base_uri": "https://localhost:8080/"
        },
        "id": "s89ngOvcRc6_",
        "outputId": "9771d8c9-f393-4f2a-ac7f-014bfa372459"
      },
      "outputs": [
        {
          "output_type": "stream",
          "name": "stdout",
          "text": [
            "Student Table created successfully\n"
          ]
        }
      ],
      "source": [
        "from sqlalchemy.exc import SQLAlchemyError\n",
        "try:\n",
        "  my_conn.execute('''\n",
        "    CREATE TABLE IF NOT EXISTS student(id integer primary key,\n",
        "                                       name text,\n",
        "                                       course text,\n",
        "                                       grade integer\n",
        "                                       );''')\n",
        "  \n",
        "  print(\"Student Table created successfully\")\n",
        "except SQLAlchemyError as e:\n",
        "  error = str(e._dict_['orig'])\n",
        "  print(error)"
      ]
    },
    {
      "cell_type": "code",
      "source": [
        "r_set=my_conn.execute('''INSERT INTO `student`\n",
        "(`id`,`name`,`course`,`grade`) VALUES\n",
        "(1, 'John Deo', 'AI', 4.0),\n",
        "(2, 'Max Ruin', 'Business', 1.0),\n",
        "(3, 'Arnold', 'Business', 4.5),\n",
        "(4, 'Krish Star', 'AI', 3.75),\n",
        "(5, 'John Mike', 'AI', 3.0),\n",
        "(6, 'Alex John', 'AI', 4.5),\n",
        "(7, 'My John Rob', 'IT', 3.0),\n",
        "(8, 'Asruid', 'IT', 4.5),\n",
        "(9, 'Tes Qry', 'Retail Management', 3.0),\n",
        "(10, 'Big John', 'AI', 4.5),\n",
        "(11, 'Ronald', 'Retail Management', 3.5),\n",
        "(27, 'Big Nose', 'Business', 3.0),\n",
        "(28, 'Rojj Base', 'Supply Chain', 4.0),\n",
        "(29, 'Tess Played', 'Supply Chain', 4.5),\n",
        "(30, 'Reppy Red', 'Retail Management', 3.5),\n",
        "(31, 'Marry Toeey', 'AI', 4.5),\n",
        "(32, 'Binn Rott', 'Supply Chain', 4.5);''')\n"
      ],
      "metadata": {
        "id": "aeN1vOdqVJWY"
      },
      "execution_count": 22,
      "outputs": []
    },
    {
      "cell_type": "code",
      "source": [
        "r_set=my_conn.execute('''INSERT INTO `student`\n",
        "(`id`,`name`,`course`,`grade`) VALUES\n",
        "(33, 'Kenn Rein', 'Database Management', 1.5),\n",
        "(34, 'Gain Toe', 'Business', 1.75),\n",
        "(35, 'Rows Noump', 'Database Management', 2.5);''')"
      ],
      "metadata": {
        "id": "jKzlFVcgMYB8"
      },
      "execution_count": 24,
      "outputs": []
    }
  ]
}